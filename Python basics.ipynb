{
 "cells": [
  {
   "cell_type": "markdown",
   "id": "65401684-6a38-4afd-94f2-ea5548cd4a2d",
   "metadata": {},
   "source": [
    "# Variable & Mathematical Operation\n"
   ]
  },
  {
   "cell_type": "code",
   "execution_count": 2,
   "id": "f095a47e-9323-484a-a85e-8dd9b87f3f80",
   "metadata": {},
   "outputs": [],
   "source": [
    "x=10\n",
    "y=4"
   ]
  },
  {
   "cell_type": "code",
   "execution_count": 4,
   "id": "993d6dee-ddd6-463c-9694-c74d6327eecc",
   "metadata": {},
   "outputs": [
    {
     "name": "stdout",
     "output_type": "stream",
     "text": [
      "14\n"
     ]
    }
   ],
   "source": [
    "print(x+y)"
   ]
  },
  {
   "cell_type": "code",
   "execution_count": 6,
   "id": "c84e430a-916c-4bfd-a50d-574bc28b3b1a",
   "metadata": {},
   "outputs": [
    {
     "name": "stdout",
     "output_type": "stream",
     "text": [
      "6\n"
     ]
    }
   ],
   "source": [
    "print(x-y)"
   ]
  },
  {
   "cell_type": "code",
   "execution_count": 8,
   "id": "8d301b69-358f-4b98-9896-ebc5fb5ea42f",
   "metadata": {},
   "outputs": [
    {
     "name": "stdout",
     "output_type": "stream",
     "text": [
      "40\n"
     ]
    }
   ],
   "source": [
    "print(x*y)"
   ]
  },
  {
   "cell_type": "code",
   "execution_count": 10,
   "id": "60a72dc1-09dc-43e5-892c-9ff8ed313bee",
   "metadata": {},
   "outputs": [
    {
     "name": "stdout",
     "output_type": "stream",
     "text": [
      "2.5\n"
     ]
    }
   ],
   "source": [
    "print(x/y)"
   ]
  },
  {
   "cell_type": "code",
   "execution_count": 12,
   "id": "567a1803-5793-4099-9786-bd65eff9ceb3",
   "metadata": {},
   "outputs": [
    {
     "name": "stdout",
     "output_type": "stream",
     "text": [
      "2\n"
     ]
    }
   ],
   "source": [
    "print(x%y)"
   ]
  },
  {
   "cell_type": "code",
   "execution_count": 14,
   "id": "ca46c128-de2e-4192-9888-543cffb50bdc",
   "metadata": {},
   "outputs": [
    {
     "name": "stdout",
     "output_type": "stream",
     "text": [
      "2\n"
     ]
    }
   ],
   "source": [
    "print(x//y)"
   ]
  },
  {
   "cell_type": "markdown",
   "id": "e1268845-109c-4941-bb8a-7e985bc8b2d0",
   "metadata": {},
   "source": [
    "# Using input() and print()"
   ]
  },
  {
   "cell_type": "code",
   "execution_count": 17,
   "id": "41c596f4-6c33-4af9-9c2b-2eff2b39b716",
   "metadata": {},
   "outputs": [
    {
     "name": "stdout",
     "output_type": "stream",
     "text": [
      "Hi John,your favorite color is Blue.\n"
     ]
    }
   ],
   "source": [
    "print(\"Hi John,your favorite color is Blue.\")"
   ]
  },
  {
   "cell_type": "code",
   "execution_count": 19,
   "id": "4e4ea8ff-8e83-4948-8146-0d9141b5f84f",
   "metadata": {},
   "outputs": [
    {
     "name": "stdin",
     "output_type": "stream",
     "text": [
      "Enter your name: john\n",
      "Enter your favorite color: blue\n"
     ]
    }
   ],
   "source": [
    "name=input(\"Enter your name:\")\n",
    "color=input(\"Enter your favorite color:\")"
   ]
  },
  {
   "cell_type": "code",
   "execution_count": 21,
   "id": "262c8460-0c98-42fa-877a-4fcea6df1d28",
   "metadata": {},
   "outputs": [
    {
     "name": "stdout",
     "output_type": "stream",
     "text": [
      "Hi john your favorite color is blue\n"
     ]
    }
   ],
   "source": [
    "print(\"Hi\",name,\"your favorite color is\",color)"
   ]
  },
  {
   "cell_type": "markdown",
   "id": "d1ddfbe9-bdbc-4feb-a83f-1baf34b22272",
   "metadata": {},
   "source": [
    "# format() and f-string()"
   ]
  },
  {
   "cell_type": "code",
   "execution_count": 59,
   "id": "7188e65d-9294-4c7c-9081-163c7deeaf5e",
   "metadata": {},
   "outputs": [
    {
     "name": "stdout",
     "output_type": "stream",
     "text": [
      "You are 18 years old and live in Bangalore.\n"
     ]
    }
   ],
   "source": [
    "info=\"You are 18 years old and live in Bangalore.\"\n",
    "print(\"{}\".format(info))"
   ]
  },
  {
   "cell_type": "code",
   "execution_count": 61,
   "id": "f46b22d8-49b3-4802-a8fb-50ae5146d010",
   "metadata": {},
   "outputs": [
    {
     "name": "stdout",
     "output_type": "stream",
     "text": [
      "You are 18 years old and live in Bangalore.\n"
     ]
    }
   ],
   "source": [
    "print(f\"{info}\")"
   ]
  },
  {
   "cell_type": "markdown",
   "id": "11c20501-41c7-45c9-b509-28a995b04fc1",
   "metadata": {},
   "source": [
    "# Date Types and type()"
   ]
  },
  {
   "cell_type": "code",
   "execution_count": 33,
   "id": "b51a993b-da8b-474d-9d8c-98a6b03c1b4d",
   "metadata": {},
   "outputs": [],
   "source": [
    "a=7\n",
    "b=3.14\n",
    "c=\"Python\"\n",
    "is_valid=True\n"
   ]
  },
  {
   "cell_type": "code",
   "execution_count": 35,
   "id": "7f944661-7de1-4681-8423-c0449c11e59a",
   "metadata": {},
   "outputs": [
    {
     "name": "stdout",
     "output_type": "stream",
     "text": [
      "<class 'int'>\n"
     ]
    }
   ],
   "source": [
    "print(type(a))\n"
   ]
  },
  {
   "cell_type": "code",
   "execution_count": 37,
   "id": "b0b8cf82-a1af-44c1-a194-5c5272c64982",
   "metadata": {},
   "outputs": [
    {
     "name": "stdout",
     "output_type": "stream",
     "text": [
      "<class 'float'>\n"
     ]
    }
   ],
   "source": [
    "print(type(b))"
   ]
  },
  {
   "cell_type": "code",
   "execution_count": 39,
   "id": "5ab4e8f7-cdb5-4ded-878f-f9bd4e6a967b",
   "metadata": {},
   "outputs": [
    {
     "name": "stdout",
     "output_type": "stream",
     "text": [
      "<class 'str'>\n"
     ]
    }
   ],
   "source": [
    "print(type(c))"
   ]
  },
  {
   "cell_type": "code",
   "execution_count": 41,
   "id": "bae64982-62df-4907-b4f4-0f71f6b01613",
   "metadata": {},
   "outputs": [
    {
     "name": "stdout",
     "output_type": "stream",
     "text": [
      "<class 'bool'>\n"
     ]
    }
   ],
   "source": [
    "print(type(is_valid))"
   ]
  },
  {
   "cell_type": "markdown",
   "id": "a155ef01-49d0-4892-90bf-45bca8a282d7",
   "metadata": {},
   "source": [
    "# Type Casting"
   ]
  },
  {
   "cell_type": "code",
   "execution_count": 44,
   "id": "9f1e5264-f358-48c4-b20c-3a0f8c32aec4",
   "metadata": {},
   "outputs": [
    {
     "name": "stdin",
     "output_type": "stream",
     "text": [
      "Enter a number: 10\n"
     ]
    }
   ],
   "source": [
    "num=input(\"Enter a number:\")"
   ]
  },
  {
   "cell_type": "code",
   "execution_count": 46,
   "id": "16483baf-3857-4946-af1f-56a5c9f7d580",
   "metadata": {},
   "outputs": [],
   "source": [
    "i=int(num)"
   ]
  },
  {
   "cell_type": "code",
   "execution_count": 48,
   "id": "452363f2-5831-4491-b692-74db7ce40a2a",
   "metadata": {},
   "outputs": [
    {
     "name": "stdout",
     "output_type": "stream",
     "text": [
      "20\n"
     ]
    }
   ],
   "source": [
    "print(i+10)"
   ]
  },
  {
   "cell_type": "markdown",
   "id": "0a9b0509-4344-43d6-8013-3d9463b3a121",
   "metadata": {},
   "source": [
    "# String Length & Concatenation\n"
   ]
  },
  {
   "cell_type": "code",
   "execution_count": 55,
   "id": "4ae8b103-2728-4de4-82bc-e14df7f53ec1",
   "metadata": {},
   "outputs": [
    {
     "name": "stdout",
     "output_type": "stream",
     "text": [
      "prajwal shaiva\n"
     ]
    }
   ],
   "source": [
    "first_name=\"prajwal\"\n",
    "last_name=\"shaiva\"\n",
    "n=first_name+\" \"+last_name\n",
    "print(n)"
   ]
  },
  {
   "cell_type": "code",
   "execution_count": 57,
   "id": "9648ad79-ec50-4c80-bc1f-fe206ac322ca",
   "metadata": {},
   "outputs": [
    {
     "name": "stdout",
     "output_type": "stream",
     "text": [
      "14\n"
     ]
    }
   ],
   "source": [
    "print(len(n))\n"
   ]
  },
  {
   "cell_type": "code",
   "execution_count": null,
   "id": "7788ca63-76e6-488b-92ca-9713e256ec49",
   "metadata": {},
   "outputs": [],
   "source": []
  }
 ],
 "metadata": {
  "kernelspec": {
   "display_name": "Python [conda env:base] *",
   "language": "python",
   "name": "conda-base-py"
  },
  "language_info": {
   "codemirror_mode": {
    "name": "ipython",
    "version": 3
   },
   "file_extension": ".py",
   "mimetype": "text/x-python",
   "name": "python",
   "nbconvert_exporter": "python",
   "pygments_lexer": "ipython3",
   "version": "3.12.7"
  }
 },
 "nbformat": 4,
 "nbformat_minor": 5
}
